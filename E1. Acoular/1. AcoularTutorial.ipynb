{
 "cells": [
  {
   "cell_type": "code",
   "execution_count": 1,
   "id": "29680069-eb83-48e8-8f35-9c6d37702c44",
   "metadata": {},
   "outputs": [
    {
     "name": "stderr",
     "output_type": "stream",
     "text": [
      "/home/tys/.local/share/virtualenvs/lab-ED5LvMyb/lib/python3.11/site-packages/acoular/__init__.py:15: UserWarning: We detected that Numpy is already loaded and uses OpenBLAS. Because this conflicts with Numba parallel execution, we disable parallel execution for now and processing might be slower. To speed up, either import Numpy after Acoular or set environment variable OPENBLAS_NUM_THREADS=1 before start of the program.\n",
      "  from .configuration import config\n",
      "Exception occurred in traits notification handler for object: <acoular.sources.TimeSamples object at 0x7ffedc71e0c0>, trait: basename, old value: None, new value: three_sources\n",
      "Traceback (most recent call last):\n",
      "  File \"/home/tys/.local/share/virtualenvs/lab-ED5LvMyb/lib/python3.11/site-packages/traits/trait_notifiers.py\", line 524, in _dispatch_change_event\n",
      "    self.dispatch(handler, *args)\n",
      "  File \"/home/tys/.local/share/virtualenvs/lab-ED5LvMyb/lib/python3.11/site-packages/traits/trait_notifiers.py\", line 486, in dispatch\n",
      "    handler(*args)\n",
      "  File \"/home/tys/.local/share/virtualenvs/lab-ED5LvMyb/lib/python3.11/site-packages/acoular/sources.py\", line 141, in load_data\n",
      "    raise IOError(\"No such file: %s\" % self.name)\n",
      "OSError: No such file: three_sources.h5\n",
      "Exception occurred in traits notification handler for object: <acoular.spectra.PowerSpectra object at 0x7ffe80ab6430>, trait: _source, old value: None, new value: <acoular.sources.TimeSamples object at 0x7ffedc71e0c0>\n",
      "Traceback (most recent call last):\n",
      "  File \"/home/tys/.local/share/virtualenvs/lab-ED5LvMyb/lib/python3.11/site-packages/traits/trait_notifiers.py\", line 524, in _dispatch_change_event\n",
      "    self.dispatch(handler, *args)\n",
      "  File \"/home/tys/.local/share/virtualenvs/lab-ED5LvMyb/lib/python3.11/site-packages/traits/trait_notifiers.py\", line 486, in dispatch\n",
      "    handler(*args)\n",
      "  File \"/home/tys/.local/share/virtualenvs/lab-ED5LvMyb/lib/python3.11/site-packages/traits/has_traits.py\", line 1021, in wrapper0\n",
      "    return function(arg)\n",
      "           ^^^^^^^^^^^^^\n",
      "  File \"/home/tys/.local/share/virtualenvs/lab-ED5LvMyb/lib/python3.11/site-packages/traits/has_traits.py\", line 3413, in notify\n",
      "    self.trait_property_changed(name, old)\n",
      "  File \"/home/tys/.local/share/virtualenvs/lab-ED5LvMyb/lib/python3.11/site-packages/traits/has_traits.py\", line 992, in wrapper\n",
      "    self.__dict__[name] = result = function(self)\n",
      "                                   ^^^^^^^^^^^^^^\n",
      "  File \"/home/tys/.local/share/virtualenvs/lab-ED5LvMyb/lib/python3.11/site-packages/acoular/spectra.py\", line 296, in _get_ind_low\n",
      "    fftfreq = self.fftfreq()\n",
      "              ^^^^^^^^^^^^^^\n",
      "  File \"/home/tys/.local/share/virtualenvs/lab-ED5LvMyb/lib/python3.11/site-packages/acoular/spectra.py\", line 94, in fftfreq\n",
      "    return abs(fft.fftfreq(self.block_size, 1./self.source.sample_freq)\\\n",
      "                                            ~~^~~~~~~~~~~~~~~~~~~~~~~~\n",
      "ZeroDivisionError: float division by zero\n",
      "Exception occurred in traits notification handler for object: <acoular.spectra.PowerSpectra object at 0x7ffe80ab6430>, trait: _source, old value: None, new value: <acoular.sources.TimeSamples object at 0x7ffedc71e0c0>\n",
      "Traceback (most recent call last):\n",
      "  File \"/home/tys/.local/share/virtualenvs/lab-ED5LvMyb/lib/python3.11/site-packages/traits/trait_notifiers.py\", line 524, in _dispatch_change_event\n",
      "    self.dispatch(handler, *args)\n",
      "  File \"/home/tys/.local/share/virtualenvs/lab-ED5LvMyb/lib/python3.11/site-packages/traits/trait_notifiers.py\", line 486, in dispatch\n",
      "    handler(*args)\n",
      "  File \"/home/tys/.local/share/virtualenvs/lab-ED5LvMyb/lib/python3.11/site-packages/traits/has_traits.py\", line 1021, in wrapper0\n",
      "    return function(arg)\n",
      "           ^^^^^^^^^^^^^\n",
      "  File \"/home/tys/.local/share/virtualenvs/lab-ED5LvMyb/lib/python3.11/site-packages/traits/has_traits.py\", line 3413, in notify\n",
      "    self.trait_property_changed(name, old)\n",
      "  File \"/home/tys/.local/share/virtualenvs/lab-ED5LvMyb/lib/python3.11/site-packages/traits/has_traits.py\", line 992, in wrapper\n",
      "    self.__dict__[name] = result = function(self)\n",
      "                                   ^^^^^^^^^^^^^^\n",
      "  File \"/home/tys/.local/share/virtualenvs/lab-ED5LvMyb/lib/python3.11/site-packages/acoular/spectra.py\", line 305, in _get_ind_high\n",
      "    fftfreq = self.fftfreq()\n",
      "              ^^^^^^^^^^^^^^\n",
      "  File \"/home/tys/.local/share/virtualenvs/lab-ED5LvMyb/lib/python3.11/site-packages/acoular/spectra.py\", line 94, in fftfreq\n",
      "    return abs(fft.fftfreq(self.block_size, 1./self.source.sample_freq)\\\n",
      "                                            ~~^~~~~~~~~~~~~~~~~~~~~~~~\n",
      "ZeroDivisionError: float division by zero\n",
      "Exception occurred in traits notification handler for object: <acoular.spectra.PowerSpectra object at 0x7ffe80ab6430>, trait: block_size, old value: 1024, new value: 128\n",
      "Traceback (most recent call last):\n",
      "  File \"/home/tys/.local/share/virtualenvs/lab-ED5LvMyb/lib/python3.11/site-packages/traits/trait_notifiers.py\", line 524, in _dispatch_change_event\n",
      "    self.dispatch(handler, *args)\n",
      "  File \"/home/tys/.local/share/virtualenvs/lab-ED5LvMyb/lib/python3.11/site-packages/traits/trait_notifiers.py\", line 486, in dispatch\n",
      "    handler(*args)\n",
      "  File \"/home/tys/.local/share/virtualenvs/lab-ED5LvMyb/lib/python3.11/site-packages/traits/has_traits.py\", line 1021, in wrapper0\n",
      "    return function(arg)\n",
      "           ^^^^^^^^^^^^^\n",
      "  File \"/home/tys/.local/share/virtualenvs/lab-ED5LvMyb/lib/python3.11/site-packages/traits/has_traits.py\", line 3413, in notify\n",
      "    self.trait_property_changed(name, old)\n",
      "  File \"/home/tys/.local/share/virtualenvs/lab-ED5LvMyb/lib/python3.11/site-packages/traits/has_traits.py\", line 992, in wrapper\n",
      "    self.__dict__[name] = result = function(self)\n",
      "                                   ^^^^^^^^^^^^^^\n",
      "  File \"/home/tys/.local/share/virtualenvs/lab-ED5LvMyb/lib/python3.11/site-packages/acoular/spectra.py\", line 296, in _get_ind_low\n",
      "    fftfreq = self.fftfreq()\n",
      "              ^^^^^^^^^^^^^^\n",
      "  File \"/home/tys/.local/share/virtualenvs/lab-ED5LvMyb/lib/python3.11/site-packages/acoular/spectra.py\", line 94, in fftfreq\n",
      "    return abs(fft.fftfreq(self.block_size, 1./self.source.sample_freq)\\\n",
      "                                            ~~^~~~~~~~~~~~~~~~~~~~~~~~\n",
      "ZeroDivisionError: float division by zero\n",
      "Exception occurred in traits notification handler for object: <acoular.spectra.PowerSpectra object at 0x7ffe80ab6430>, trait: block_size, old value: 1024, new value: 128\n",
      "Traceback (most recent call last):\n",
      "  File \"/home/tys/.local/share/virtualenvs/lab-ED5LvMyb/lib/python3.11/site-packages/traits/trait_notifiers.py\", line 524, in _dispatch_change_event\n",
      "    self.dispatch(handler, *args)\n",
      "  File \"/home/tys/.local/share/virtualenvs/lab-ED5LvMyb/lib/python3.11/site-packages/traits/trait_notifiers.py\", line 486, in dispatch\n",
      "    handler(*args)\n",
      "  File \"/home/tys/.local/share/virtualenvs/lab-ED5LvMyb/lib/python3.11/site-packages/traits/has_traits.py\", line 1021, in wrapper0\n",
      "    return function(arg)\n",
      "           ^^^^^^^^^^^^^\n",
      "  File \"/home/tys/.local/share/virtualenvs/lab-ED5LvMyb/lib/python3.11/site-packages/traits/has_traits.py\", line 3413, in notify\n",
      "    self.trait_property_changed(name, old)\n",
      "  File \"/home/tys/.local/share/virtualenvs/lab-ED5LvMyb/lib/python3.11/site-packages/traits/has_traits.py\", line 992, in wrapper\n",
      "    self.__dict__[name] = result = function(self)\n",
      "                                   ^^^^^^^^^^^^^^\n",
      "  File \"/home/tys/.local/share/virtualenvs/lab-ED5LvMyb/lib/python3.11/site-packages/acoular/spectra.py\", line 305, in _get_ind_high\n",
      "    fftfreq = self.fftfreq()\n",
      "              ^^^^^^^^^^^^^^\n",
      "  File \"/home/tys/.local/share/virtualenvs/lab-ED5LvMyb/lib/python3.11/site-packages/acoular/spectra.py\", line 94, in fftfreq\n",
      "    return abs(fft.fftfreq(self.block_size, 1./self.source.sample_freq)\\\n",
      "                                            ~~^~~~~~~~~~~~~~~~~~~~~~~~\n",
      "ZeroDivisionError: float division by zero\n"
     ]
    },
    {
     "name": "stdout",
     "output_type": "stream",
     "text": [
      "Using microphone file /home/tys/.local/share/virtualenvs/lab-ED5LvMyb/lib/python3.11/site-packages/acoular/xml/array_64.xml\n"
     ]
    }
   ],
   "source": [
    "import acoular\n",
    "from os import path\n",
    "import pylab as plt\n",
    "\n",
    "# Process audio data, read and then into FFT\n",
    "ts = acoular.TimeSamples( name = 'three_sources.h5' )\n",
    "ps = acoular.PowerSpectra ( time_data=ts, block_size=128, window='Rectangular' )\n",
    "\n",
    "# Create the scene: a grid to work on and mic positions\n",
    "rg = acoular.RectGrid( x_min=-0.2, x_max=0.2, y_min=-0.2, y_max=0.2, z=0.3, increment = 0.01 )\n",
    "micgeofile = path.join(path.split(acoular.__file__)[0], 'xml', 'array_64.xml')\n",
    "print(f\"Using microphone file {micgeofile}\")\n",
    "mg = acoular.MicGeom( from_file=micgeofile )\n",
    "\n",
    "# Prepare Beamformer\n",
    "st = acoular.SteeringVector( grid=rg, mics=mg )\n",
    "bb = acoular.BeamformerBase( freq_data=ps, steer=st )\n",
    "\n",
    "# Calc bf algo, at 8000Hz, 3rd of an Octave\n",
    "# pm = bb.synthetic( 3000, 3 )\n",
    "# lm = acoular.L_p( pm )"
   ]
  },
  {
   "cell_type": "markdown",
   "id": "7e84adfb-8c98-4159-8551-677a86d321c0",
   "metadata": {},
   "source": [
    "the beamforming result mapped onto the grid is queried for a frequency of 8000 Hz and over a third-octave wide frequency band (thus the ‘3’ in the second argument)."
   ]
  },
  {
   "cell_type": "code",
   "execution_count": 4,
   "id": "6730bb75-6ed2-483c-b36c-5ee1cb0a8b18",
   "metadata": {
    "scrolled": true
   },
   "outputs": [
    {
     "data": {
      "text/plain": [
       "[<matplotlib.lines.Line2D at 0x7fff6ffe5d50>]"
      ]
     },
     "execution_count": 4,
     "metadata": {},
     "output_type": "execute_result"
    },
    {
     "data": {
      "image/png": "[encoded data removed]",
      "text/plain": [
       "<Figure size 640x480 with 1 Axes>"
      ]
     },
     "metadata": {},
     "output_type": "display_data"
    }
   ],
   "source": [
    "plt.ion()\n",
    "plt.plot(mg.mpos[0], mg.mpos[1], 'o')"
   ]
  },
  {
   "cell_type": "code",
   "execution_count": 5,
   "id": "5241a513-e5c4-4ed8-ab07-b5aa701998f5",
   "metadata": {},
   "outputs": [
    {
     "data": {
      "text/plain": [
       "<Figure size 640x480 with 0 Axes>"
      ]
     },
     "metadata": {},
     "output_type": "display_data"
    },
    {
     "data": {
      "application/vnd.jupyter.widget-view+json": {
       "model_id": "d8d20e57eaff497a9025efb57ad91436",
       "version_major": 2,
       "version_minor": 0
      },
      "text/plain": [
       "interactive(children=(IntSlider(value=80, description='vmin', min=50), IntSlider(value=100, description='vmax'…"
      ]
     },
     "metadata": {},
     "output_type": "display_data"
    }
   ],
   "source": [
    "from ipywidgets import interact, interactive, fixed, interact_manual\n",
    "import ipywidgets as widgets\n",
    "\n",
    "plt.figure()\n",
    "@interact(vmin=widgets.IntSlider(min=50, max=100, step=1, value=80),\n",
    "          vmax=widgets.IntSlider(min=50, max=100, step=1, value=100),\n",
    "          freq=widgets.IntSlider(min=100, max=25000, step=100, value=8000),\n",
    "          fwidth=widgets.IntSlider(min=1, max=8, step=1, value=3) )\n",
    "def plot(vmin, vmax, freq, fwidth):\n",
    "    pm = bb.synthetic( freq, fwidth )\n",
    "    lm = acoular.L_p( pm )\n",
    "\n",
    "    plt.imshow( lm.T, origin='lower', vmin=lm.max()*vmin/100, vmax=lm.max()*vmax/100, extent=rg.extend(), interpolation='bicubic')\n",
    "    plt.colorbar()\n",
    "    "
   ]
  }
 ],
 "metadata": {
  "kernelspec": {
   "display_name": "Python 3 (ipykernel)",
   "language": "python",
   "name": "python3"
  },
  "language_info": {
   "codemirror_mode": {
    "name": "ipython",
    "version": 3
   },
   "file_extension": ".py",
   "mimetype": "text/x-python",
   "name": "python",
   "nbconvert_exporter": "python",
   "pygments_lexer": "ipython3",
   "version": "3.11.2"
  }
 },
 "nbformat": 4,
 "nbformat_minor": 5
}
