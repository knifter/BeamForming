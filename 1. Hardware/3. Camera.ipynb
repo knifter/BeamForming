{
 "cells": [
  {
   "cell_type": "code",
   "execution_count": 9,
   "id": "dcf53c1f-322c-484d-8b28-8ee3640b6e7f",
   "metadata": {},
   "outputs": [
    {
     "name": "stderr",
     "output_type": "stream",
     "text": [
      "[48:05:08.998638407] [4019] \u001b[1;32m INFO \u001b[1;37mCamera \u001b[1;34mcamera_manager.cpp:284 \u001b[0mlibcamera v0.2.0+46-075b54d5\n",
      "[48:05:09.011374206] [239144] \u001b[1;32m INFO \u001b[1;37mRPI \u001b[1;34mpisp.cpp:662 \u001b[0mlibpisp version v1.0.4 6e3a53d137f4 14-02-2024 (14:00:12)\n",
      "[48:05:09.026004807] [239144] \u001b[1;32m INFO \u001b[1;37mRPI \u001b[1;34mpisp.cpp:1121 \u001b[0mRegistered camera /base/axi/pcie@120000/rp1/i2c@80000/imx708@1a to CFE device /dev/media0 and ISP device /dev/media1 using PiSP variant BCM2712_C0\n",
      "[48:05:09.028639297] [4019] \u001b[1;32m INFO \u001b[1;37mCamera \u001b[1;34mcamera_manager.cpp:284 \u001b[0mlibcamera v0.2.0+46-075b54d5\n",
      "[48:05:09.041250132] [239147] \u001b[1;32m INFO \u001b[1;37mRPI \u001b[1;34mpisp.cpp:662 \u001b[0mlibpisp version v1.0.4 6e3a53d137f4 14-02-2024 (14:00:12)\n",
      "[48:05:09.061155657] [239147] \u001b[1;32m INFO \u001b[1;37mRPI \u001b[1;34mpisp.cpp:1121 \u001b[0mRegistered camera /base/axi/pcie@120000/rp1/i2c@80000/imx708@1a to CFE device /dev/media0 and ISP device /dev/media1 using PiSP variant BCM2712_C0\n",
      "[48:05:09.075829425] [4019] \u001b[1;32m INFO \u001b[1;37mCamera \u001b[1;34mcamera.cpp:1183 \u001b[0mconfiguring streams: (0) 1920x1440-BGR888 (1) 4608x2592-BGGR16_PISP_COMP1\n",
      "[48:05:09.076098259] [239147] \u001b[1;32m INFO \u001b[1;37mRPI \u001b[1;34mpisp.cpp:1405 \u001b[0mSensor: /base/axi/pcie@120000/rp1/i2c@80000/imx708@1a - Selected sensor format: 4608x2592-SBGGR10_1X10 - Selected CFE format: 4608x2592-PC1B\n"
     ]
    },
    {
     "name": "stdout",
     "output_type": "stream",
     "text": [
      "capturing image test.jpg\n",
      "done.\n"
     ]
    }
   ],
   "source": [
    "from picamera2 import Picamera2\n",
    "import time\n",
    "import os\n",
    "\n",
    "camera = None\n",
    "\n",
    "def initialize_camera():\n",
    "    global camera\n",
    "    camera = Picamera2()\n",
    "    config = camera.create_still_configuration()\n",
    "    # config[\"main\"][\"size\"] = (4608, 2592)\n",
    "    config[\"main\"][\"size\"] = (1920, 1440)\n",
    "    camera .configure(config)\n",
    "\n",
    "def capture_image(filename: str):\n",
    "    filepath = os.path.expanduser(filename)\n",
    "    print(\"capturing image\", filepath)\n",
    "    camera.start()\n",
    "    time.sleep(0.5)\n",
    "    camera.capture_file(filepath)\n",
    "    camera.stop()\n",
    "    camera.close()\n",
    "\n",
    "# everloop.set(ledsgreen)\n",
    "initialize_camera()\n",
    "capture_image(\"test.jpg\")\n",
    "print(\"done.\")"
   ]
  }
 ],
 "metadata": {
  "kernelspec": {
   "display_name": "Python 3 (ipykernel)",
   "language": "python",
   "name": "python3"
  },
  "language_info": {
   "codemirror_mode": {
    "name": "ipython",
    "version": 3
   },
   "file_extension": ".py",
   "mimetype": "text/x-python",
   "name": "python",
   "nbconvert_exporter": "python",
   "pygments_lexer": "ipython3",
   "version": "3.11.2"
  }
 },
 "nbformat": 4,
 "nbformat_minor": 5
}
