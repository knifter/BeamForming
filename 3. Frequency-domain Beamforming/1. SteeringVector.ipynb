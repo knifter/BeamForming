{
 "cells": [
  {
   "cell_type": "markdown",
   "id": "8e8b46c8-7614-48a1-a460-9e7d1ad38e9b",
   "metadata": {},
   "source": [
    "# Steering Vector\n",
    "In order to delay our elements in the frequency domain, we will need to create a steering vector: An array which has a phase-shift for each element, depening on angle-of-incidence and frequency."
   ]
  },
  {
   "cell_type": "code",
   "execution_count": 1,
   "id": "ea8cd430-e294-4852-8454-7e3342f26b4c",
   "metadata": {},
   "outputs": [],
   "source": [
    "import numpy as np\n",
    "import matplotlib.pyplot as plt\n",
    "from ipywidgets import interact, interactive, fixed, interact_manual\n",
    "# import ipywidgets as widgets\n",
    "from ipywidgets import IntSlider\n",
    "# import pylab as plt\n",
    "\n",
    "%matplotlib widget\n",
    "\n",
    "# Generate the array geometry (for simplicity, a linear array)\n",
    "PI = np.pi\n",
    "Fs = 44100\n",
    "speed_of_sound = 343.0\n",
    "\n",
    "# Construct the 'probe' vector for the given angle\n",
    "def steering_vector(f0, angle_deg, num_elements = 4, distance = 0.042):\n",
    "    # Create an array with our microphone positions, in meters\n",
    "    mic_positions = np.array([n*distance for n in np.arange(num_elements)])\n",
    "\n",
    "    # Angle to radians\n",
    "    angle_rad = np.radians(angle_deg)\n",
    "    \n",
    "    # Wavelength\n",
    "    l = speed_of_sound / f0\n",
    "    # mic_position in wavenumber\n",
    "    d = mic_positions / l\n",
    "    steering_vector = np.exp(-1j * 2*PI * d*np.sin(angle_rad))\n",
    "    return steering_vector\n",
    "    "
   ]
  },
  {
   "cell_type": "markdown",
   "id": "b585a27b-57e0-42cf-891f-c3b812a943db",
   "metadata": {},
   "source": [
    "Lets test our steering vector: We generate a few steering vectors and print the phase of each element for this angle (shown in degrees!), then the total gain (sum) and the summed phase we could get.\n",
    "For a wavelength equal to our element spacing we expect additional side-lobes at 90 degree angles: For this angle-of-incidence we have a full 360 degrees phase shift and thus constructive interference. For some angle in the middle we would expect zero sensitivity where the phase between each consecutive element is 180 degrees."
   ]
  },
  {
   "cell_type": "code",
   "execution_count": 2,
   "id": "284ad283-fd56-4972-92b4-b2beae5c7534",
   "metadata": {},
   "outputs": [
    {
     "name": "stdout",
     "output_type": "stream",
     "text": [
      "f0 = 8166.666666666666\n",
      "angle=0,\tdegs_of_delay = [0. 0. 0. 0.],\tsum=4.00 phase=0.0\n",
      "angle=30,\tdegs_of_delay = [   0. -180.    0. -180.],\tsum=0.00 phase=-90.0\n",
      "angle=45,\tdegs_of_delay = [   0.    105.44 -149.12  -43.68],\tsum=0.65 phase=-21.837661840735517\n",
      "angle=60,\tdegs_of_delay = [  0.    48.23  96.46 144.69],\tsum=2.43 phase=72.34628195640316\n",
      "angle=90,\tdegs_of_delay = [0. 0. 0. 0.],\tsum=4.00 phase=2.1050127895604626e-14\n"
     ]
    }
   ],
   "source": [
    "np.set_printoptions(precision=2, suppress=True)\n",
    "\n",
    "# set the wavelength of the incoming signal to the distance of our microphones\n",
    "f0 = speed_of_sound / 0.042\n",
    "\n",
    "# and plot out angle, angles of steering vector, sum of the elements (sensitivity) and sum of the phase shift (total phase shift of received signal)\n",
    "print(f'{f0 = }')\n",
    "for angle in [0, 30, 45, 60, 90]:\n",
    "    sv = steering_vector(f0, angle)\n",
    "    sum = np.sum(sv)\n",
    "    print(f'{angle=},\\tdegs_of_delay = {np.angle(sv, deg=True)},\\tsum={np.abs(sum):.2f} phase={ np.angle(sum, deg=True) }')"
   ]
  },
  {
   "cell_type": "markdown",
   "id": "f4b943de-e813-49c9-9bb3-f8b158b031f8",
   "metadata": {},
   "source": [
    "In fact, we can plot the sensitivityv (and relative phase) as a function of angle in a radial plot:"
   ]
  },
  {
   "cell_type": "code",
   "execution_count": 4,
   "id": "7c974ded-5479-48ee-808e-2bfc98daf01f",
   "metadata": {},
   "outputs": [
    {
     "data": {
      "application/vnd.jupyter.widget-view+json": {
       "model_id": "e295ac9b48bc41fd927901d7dcdba661",
       "version_major": 2,
       "version_minor": 0
      },
      "text/plain": [
       "interactive(children=(IntSlider(value=8166, description='f0', max=22050, min=100), IntSlider(value=2, descript…"
      ]
     },
     "metadata": {},
     "output_type": "display_data"
    }
   ],
   "source": [
    "fig = plt.figure(figsize=(8, 8))\n",
    "ax = fig.add_subplot(111, polar=True)\n",
    "\n",
    "def plot_sensitivity(f0, num_elements, distance_of_elements):\n",
    "    # Calculate sensitivity for each angle\n",
    "    angles = np.linspace(-90, 90, 181)  # Angles from -90 to 90 degrees\n",
    "\n",
    "    sum_vectors = [np.sum(steering_vector(f0, angle, num_elements, distance_of_elements)) for angle in angles]\n",
    "    sensitivities = np.abs(sum_vectors)\n",
    "    phases = np.angle(sum_vectors) + PI # We add PI to keep the phase positive in the plot\n",
    "\n",
    "    # we could convert to dB scale\n",
    "    # dbnorm = lambda x: 20*np.log10(np.abs(x)/np.max(x));\n",
    "\n",
    "    # Plot radial plot\n",
    "    # fig, ax = plt.subplots(1, 1)\n",
    "    ax.clear()\n",
    "    ax.set_theta_zero_location('N')\n",
    "    ax.set_theta_direction('clockwise')\n",
    "    ax.plot(np.radians(angles), sensitivities)\n",
    "    ax.plot(np.radians(angles), phases, '-.')\n",
    "    # plt.plot(np.radians(angles), sensitivities)\n",
    "    ax.set_rlabel_position(0)\n",
    "    # ax.set_xticks(np.array([-90, -45, 0, 45, 90])/180*PI)\n",
    "    ax.set_thetalim(-1/2*PI, 1/2*PI)\n",
    "\n",
    "    ax.set_xlabel('Angle (degrees)', fontsize=12, labelpad=15)\n",
    "    ax.set_ylabel('Sensitivity', fontsize=12, labelpad=15)\n",
    "    plt.title('Beamformer Sensitivity', fontsize=14, pad=20)\n",
    "    plt.show()\n",
    "\n",
    "default_f0 = speed_of_sound / 0.042 # wavelength equal to intermic distance (42mm)\n",
    "@interact(f0 = IntSlider(min=100, max=Fs/2, step=1, value = default_f0),\n",
    "          number_of_elements = IntSlider(min=1, max=32, step=1, value = 2),\n",
    "          element_distance = IntSlider(min=10, max=150, step=1, value = 40)\n",
    "         )\n",
    "def plot(f0, number_of_elements, element_distance):\n",
    "    plot_sensitivity(f0, number_of_elements, element_distance / 1000)\n"
   ]
  }
 ],
 "metadata": {
  "kernelspec": {
   "display_name": "Python 3 (ipykernel)",
   "language": "python",
   "name": "python3"
  },
  "language_info": {
   "codemirror_mode": {
    "name": "ipython",
    "version": 3
   },
   "file_extension": ".py",
   "mimetype": "text/x-python",
   "name": "python",
   "nbconvert_exporter": "python",
   "pygments_lexer": "ipython3",
   "version": "3.12.1"
  }
 },
 "nbformat": 4,
 "nbformat_minor": 5
}
