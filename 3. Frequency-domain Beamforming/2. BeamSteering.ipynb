{
 "cells": [
  {
   "cell_type": "markdown",
   "id": "3a5102ce-d940-424b-bf39-b4e1fcd1c0ad",
   "metadata": {},
   "source": [
    "# Beam Steering\n",
    "Now let's see what happens when we steer the beam to another direction than directly forward (beam_direction = 0). We can steer the beam by adding an additional angle to our steering_vector elements\n",
    "Also, we have a 4 element array, with a 42mm spacing. So to simplify code, lets set these fixed in our code.\n",
    "\n",
    "Previously we measured sensitivity by assuming our incoming sound if aimed straight into our array. We used a steering vector to create an array with phase-shifts to add to our microphone channels so that we can 'correct' for incoming delays and used this steering vector to 'probe' our array with all angles we want to measure (-90 .. +90 degrees).\n",
    "\n",
    "In this example we add another, constant delay to our incoming signal, simulating sound coming from other directions before again probing all angles. Interestingly this is done by another steering_vector: In order to calculate total phase-shift we add the phase-shifts of the incoming sound to the phase-shifts of the probing angle: We can multiply the steering_vector of the beam to the steering_vector of the probing. This is done in the next example and we can now simulate how sensitivity changes as we change our steering angle."
   ]
  },
  {
   "cell_type": "code",
   "execution_count": 1,
   "id": "23a75b5d-1da4-4a81-b819-7289929f1594",
   "metadata": {},
   "outputs": [
    {
     "data": {
      "application/vnd.jupyter.widget-view+json": {
       "model_id": "570b6999918e4e0eb4de4168e17ac9ca",
       "version_major": 2,
       "version_minor": 0
      },
      "text/plain": [
       "interactive(children=(IntSlider(value=6100, description='f0', max=22050, min=100), IntSlider(value=0, descript…"
      ]
     },
     "metadata": {},
     "output_type": "display_data"
    }
   ],
   "source": [
    "import numpy as np\n",
    "import matplotlib.pyplot as plt\n",
    "from ipywidgets import interact, interactive, fixed, interact_manual\n",
    "from ipywidgets import IntSlider\n",
    "\n",
    "%matplotlib widget\n",
    "\n",
    "# Generate the array geometry (for simplicity, a linear array)\n",
    "PI = np.pi\n",
    "Fs = 44100\n",
    "speed_of_sound = 343.0\n",
    "default_f0 = 6100\n",
    "mic_positions = np.array([-1.5, -0.5, 0.5, 1.5, 2.5]) * 0.042\n",
    "\n",
    "# Construct the steering vector for the given angle\n",
    "def steering_vector(f0, angle):\n",
    "    # Create an array with our microphone positions, in meters\n",
    "    # mic_positions = np.array([n*distance for n in np.arange(num_elements)])\n",
    "    # Angle to radians\n",
    "    angle_rad = np.radians(angle)\n",
    "\n",
    "    # Wavelength\n",
    "    l = speed_of_sound / f0\n",
    "    # mic_position in wavelengts\n",
    "    d = mic_positions / l\n",
    "\n",
    "    # Create the steering vector with the beam direction applied\n",
    "    steering_vector = np.exp(-1j * 2*PI*d*np.sin(angle_rad))\n",
    "    # print(angle_deg, steering_vector, np.sum(steering_vector))\n",
    "\n",
    "    return steering_vector\n",
    "\n",
    "fig = plt.figure(figsize=(8, 8))\n",
    "ax = fig.add_subplot(111, polar=True)\n",
    "\n",
    "def plot_sensitivity(f0, beam_direction):\n",
    "    # Calculate sensitivity for each angle\n",
    "    probe_angles = np.linspace(-90, 90, 181)  # Angles from -90 to 90 degrees\n",
    "\n",
    "    steervect = steering_vector(f0, -1*beam_direction)\n",
    "    sum_vectors = [np.sum(steering_vector(f0, angle) * steervect) for angle in probe_angles]\n",
    "    sensitivities = np.abs(sum_vectors)\n",
    "\n",
    "    # We could normalize the sensitivity and use a dB scale.\n",
    "    dbnorm = lambda x: 20*np.log10(np.abs(x)/np.max(x));\n",
    "    # sensitivities = dbnorm(sensitivities)\n",
    "    \n",
    "    # phases = np.angle(sum_vectors) + PI\n",
    "\n",
    "    # we could convert to dB scale\n",
    "\n",
    "    # Plot radial plot\n",
    "    ax.clear()\n",
    "    ax.set_theta_zero_location('N')\n",
    "    ax.set_theta_direction('clockwise')\n",
    "    ax.plot(np.radians(probe_angles), sensitivities)\n",
    "    # ax.plot(np.radians(angles), phases, '-.')\n",
    "    ax.set_rlabel_position(0)\n",
    "    ax.set_thetalim(-1/2*PI, 1/2*PI)\n",
    "\n",
    "    ax.set_xlabel('Angle (degrees)', fontsize=12, labelpad=15)\n",
    "    ax.set_ylabel('Sensitivity', fontsize=12, labelpad=15)\n",
    "    plt.title('Beamformer Sensitivity', fontsize=14, pad=20)\n",
    "    plt.show()\n",
    "\n",
    "@interact(f0 = IntSlider(min=100, max=Fs/2, step=1, value = default_f0),\n",
    "          beam_direction = IntSlider(min=-90, max=90, step=1, value=0)\n",
    "         )\n",
    "def plot(f0, beam_direction):\n",
    "    plot_sensitivity(f0, beam_direction)\n"
   ]
  }
 ],
 "metadata": {
  "kernelspec": {
   "display_name": "Python 3 (ipykernel)",
   "language": "python",
   "name": "python3"
  },
  "language_info": {
   "codemirror_mode": {
    "name": "ipython",
    "version": 3
   },
   "file_extension": ".py",
   "mimetype": "text/x-python",
   "name": "python",
   "nbconvert_exporter": "python",
   "pygments_lexer": "ipython3",
   "version": "3.11.2"
  }
 },
 "nbformat": 4,
 "nbformat_minor": 5
}
