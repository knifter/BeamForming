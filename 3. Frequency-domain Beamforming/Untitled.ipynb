{
 "cells": [
  {
   "cell_type": "code",
   "execution_count": 3,
   "id": "10cd2a61-4be6-4ea9-b3c3-b0f1777705e8",
   "metadata": {},
   "outputs": [
    {
     "name": "stdout",
     "output_type": "stream",
     "text": [
      "[1 2 3 0 0]\n",
      "[0 0 1 2 3]\n"
     ]
    }
   ],
   "source": [
    "import numpy as np\n",
    "\n",
    "ar = np.array([1, 2, 3])\n",
    "ar1 = np.pad(ar, (0, 2), 'constant')\n",
    "ar2 = np.pad(ar, (2, 0), 'constant')\n",
    "print(ar1)\n",
    "print(ar2)"
   ]
  },
  {
   "cell_type": "code",
   "execution_count": 20,
   "id": "e8bde51c-4b12-47f9-9717-4f5b2a47c1d5",
   "metadata": {},
   "outputs": [
    {
     "data": {
      "text/plain": [
       "2"
      ]
     },
     "execution_count": 20,
     "metadata": {},
     "output_type": "execute_result"
    }
   ],
   "source": [
    "np.sum(np.power(ar, 2))"
   ]
  },
  {
   "cell_type": "code",
   "execution_count": 5,
   "id": "131684c3-9302-496d-b0d6-47a1304fee00",
   "metadata": {},
   "outputs": [
    {
     "name": "stdout",
     "output_type": "stream",
     "text": [
      "[[-0.021 -0.063  0.   ]\n",
      " [-0.063 -0.063  0.   ]\n",
      " [-0.021 -0.021  0.   ]\n",
      " [-0.063 -0.021  0.   ]\n",
      " [-0.021  0.021  0.   ]\n",
      " [-0.063  0.021  0.   ]\n",
      " [-0.021  0.063  0.   ]\n",
      " [-0.063  0.063  0.   ]\n",
      " [ 0.063  0.063  0.   ]\n",
      " [ 0.021  0.063  0.   ]\n",
      " [ 0.063  0.021  0.   ]\n",
      " [ 0.021  0.021  0.   ]\n",
      " [ 0.063 -0.021  0.   ]\n",
      " [ 0.021 -0.021  0.   ]\n",
      " [ 0.063 -0.063  0.   ]\n",
      " [ 0.021 -0.063  0.   ]]\n"
     ]
    }
   ],
   "source": [
    "micpos = np.zeros((16,3))\n",
    "                #X   Y   Z\n",
    "micpos[ 0,:]  = [-1, -3, 0]\n",
    "micpos[ 1,:]  = [-3, -3, 0]\n",
    "micpos[ 2,:]  = [-1, -1, 0]\n",
    "micpos[ 3,:]  = [-3, -1, 0]\n",
    "micpos[ 4,:]  = [-1,  1, 0]\n",
    "micpos[ 5,:]  = [-3,  1, 0]\n",
    "micpos[ 6,:]  = [-1,  3, 0]\n",
    "micpos[ 7,:]  = [-3,  3, 0]\n",
    "micpos[ 8,:]  = [ 3,  3, 0]\n",
    "micpos[ 9,:]  = [ 1,  3, 0]\n",
    "micpos[10,:]  = [ 3,  1, 0]\n",
    "micpos[11,:]  = [ 1,  1, 0]\n",
    "micpos[12,:]  = [ 3, -1, 0]\n",
    "micpos[13,:]  = [ 1, -1, 0]\n",
    "micpos[14,:]  = [ 3, -3, 0]\n",
    "micpos[15,:]  = [ 1, -3, 0]\n",
    "micpos = micpos*0.021\n",
    "print(micpos)"
   ]
  }
 ],
 "metadata": {
  "kernelspec": {
   "display_name": "Python 3 (ipykernel)",
   "language": "python",
   "name": "python3"
  },
  "language_info": {
   "codemirror_mode": {
    "name": "ipython",
    "version": 3
   },
   "file_extension": ".py",
   "mimetype": "text/x-python",
   "name": "python",
   "nbconvert_exporter": "python",
   "pygments_lexer": "ipython3",
   "version": "3.11.2"
  }
 },
 "nbformat": 4,
 "nbformat_minor": 5
}
